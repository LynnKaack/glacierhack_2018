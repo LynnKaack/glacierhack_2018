{
 "cells": [
  {
   "cell_type": "code",
   "execution_count": 8,
   "metadata": {},
   "outputs": [],
   "source": [
    "from bokeh.plotting import figure, output_notebook, show\n",
    "\n",
    "# Put your data here\n",
    "dist = [1, 2, 3, 4, 5, 6, 7, 8, 9, 10]\n",
    "elev = [-12, -15, -1, 3, 0, -2, 24, 4, -1, -8]"
   ]
  },
  {
   "cell_type": "code",
   "execution_count": 21,
   "metadata": {},
   "outputs": [
    {
     "data": {
      "text/html": [
       "\n",
       "\n",
       "\n",
       "\n",
       "\n",
       "\n",
       "  <div class=\"bk-root\" id=\"4afe8097-f3d3-4ea2-985f-35906c1d5b62\"></div>\n"
      ]
     },
     "metadata": {},
     "output_type": "display_data"
    },
    {
     "data": {
      "application/javascript": [
       "(function(root) {\n",
       "  function embed_document(root) {\n",
       "    \n",
       "  var docs_json = {\"dade663c-bc65-4835-84c9-eea4441dc248\":{\"roots\":{\"references\":[{\"attributes\":{\"items\":[{\"id\":\"0bcc6adb-7c45-48e5-ba39-51ffb43f58a5\",\"type\":\"LegendItem\"}],\"plot\":{\"id\":\"64250217-8eb4-443c-b469-38b5e76f55a6\",\"subtype\":\"Figure\",\"type\":\"Plot\"}},\"id\":\"e24d52ca-3d97-4b53-b83c-ba97a8545704\",\"type\":\"Legend\"},{\"attributes\":{\"source\":{\"id\":\"f6d32186-20ad-41f4-a141-c39b3d9aebe4\",\"type\":\"ColumnDataSource\"}},\"id\":\"813375ab-69cd-4902-b9d0-de19d5234201\",\"type\":\"CDSView\"},{\"attributes\":{},\"id\":\"37c44792-3378-4b85-9c78-77f0511ec453\",\"type\":\"Selection\"},{\"attributes\":{},\"id\":\"c086f78d-0e50-4c30-8869-ab9faeb4cc6d\",\"type\":\"LinearScale\"},{\"attributes\":{\"callback\":null,\"data\":{\"x\":[1,2,3,4,5,6,7,8,9,10],\"y\":[-12,-15,-1,3,0,-2,24,4,-1,-8]},\"selected\":{\"id\":\"ac40d780-7c58-4027-baa1-c4d20a6adf66\",\"type\":\"Selection\"},\"selection_policy\":{\"id\":\"e869c997-837a-47a7-8c10-be282f7d36ea\",\"type\":\"UnionRenderers\"}},\"id\":\"055fd738-b3c5-4343-974f-46b637c53bf1\",\"type\":\"ColumnDataSource\"},{\"attributes\":{\"callback\":null,\"data\":{\"x\":[1,2,3,4,5,6,7,8,9,10],\"y\":[-12,-15,-1,3,0,-2,24,4,-1,-8]},\"selected\":{\"id\":\"37c44792-3378-4b85-9c78-77f0511ec453\",\"type\":\"Selection\"},\"selection_policy\":{\"id\":\"261cec53-6856-4460-a4f6-4bdc63c1857f\",\"type\":\"UnionRenderers\"}},\"id\":\"f6d32186-20ad-41f4-a141-c39b3d9aebe4\",\"type\":\"ColumnDataSource\"},{\"attributes\":{\"fill_color\":{\"value\":\"orange\"},\"line_color\":{\"value\":\"red\"},\"size\":{\"units\":\"screen\",\"value\":8},\"x\":{\"field\":\"x\"},\"y\":{\"field\":\"y\"}},\"id\":\"54285f67-4c37-4cd4-9336-30b1402dfdf5\",\"type\":\"Circle\"},{\"attributes\":{},\"id\":\"300ed275-a018-4189-a901-6f923a52fbc0\",\"type\":\"BasicTicker\"},{\"attributes\":{},\"id\":\"34540e12-6994-4083-a282-74eb2428e686\",\"type\":\"ResetTool\"},{\"attributes\":{\"x\":{\"field\":\"x\"},\"y\":{\"field\":\"y\"}},\"id\":\"4c598842-059f-4213-9960-9e658be003ae\",\"type\":\"Line\"},{\"attributes\":{\"axis_label\":\"Distance\",\"formatter\":{\"id\":\"c72c310c-7f58-4baa-b9fc-c3a323e4cf82\",\"type\":\"BasicTickFormatter\"},\"plot\":{\"id\":\"64250217-8eb4-443c-b469-38b5e76f55a6\",\"subtype\":\"Figure\",\"type\":\"Plot\"},\"ticker\":{\"id\":\"300ed275-a018-4189-a901-6f923a52fbc0\",\"type\":\"BasicTicker\"}},\"id\":\"ea3adb80-4aa0-492a-a376-32d53fdd122b\",\"type\":\"LinearAxis\"},{\"attributes\":{\"below\":[{\"id\":\"ea3adb80-4aa0-492a-a376-32d53fdd122b\",\"type\":\"LinearAxis\"}],\"left\":[{\"id\":\"b8938549-0be5-46d9-9035-7fd4cdd54cce\",\"type\":\"LinearAxis\"}],\"renderers\":[{\"id\":\"ea3adb80-4aa0-492a-a376-32d53fdd122b\",\"type\":\"LinearAxis\"},{\"id\":\"8b682198-7c8e-4083-8558-b4ae50607215\",\"type\":\"Grid\"},{\"id\":\"b8938549-0be5-46d9-9035-7fd4cdd54cce\",\"type\":\"LinearAxis\"},{\"id\":\"5387cd50-1d72-436d-861c-26a16c3907b5\",\"type\":\"Grid\"},{\"id\":\"12ec96b2-f4c5-4846-8aa0-d90be3fc97e9\",\"type\":\"BoxAnnotation\"},{\"id\":\"041ab309-3aa0-4b9d-a301-76405acd3468\",\"type\":\"GlyphRenderer\"},{\"id\":\"e24d52ca-3d97-4b53-b83c-ba97a8545704\",\"type\":\"Legend\"},{\"id\":\"114dd7c1-e04f-41a0-8c69-56f448f03aea\",\"type\":\"GlyphRenderer\"}],\"title\":{\"id\":\"d3716ded-a356-4639-a2be-f037499212f5\",\"type\":\"Title\"},\"toolbar\":{\"id\":\"01449faa-ffab-49a2-b72d-94429c91873f\",\"type\":\"Toolbar\"},\"x_range\":{\"id\":\"c958ff31-0550-4bf7-bd43-256a0e7205cf\",\"type\":\"DataRange1d\"},\"x_scale\":{\"id\":\"797b4cba-5d3e-4998-bad6-8c53e2937fa8\",\"type\":\"LinearScale\"},\"y_range\":{\"id\":\"c676d8cd-8a48-454c-b5c5-c9d831698f62\",\"type\":\"Range1d\"},\"y_scale\":{\"id\":\"c086f78d-0e50-4c30-8869-ab9faeb4cc6d\",\"type\":\"LinearScale\"}},\"id\":\"64250217-8eb4-443c-b469-38b5e76f55a6\",\"subtype\":\"Figure\",\"type\":\"Plot\"},{\"attributes\":{\"data_source\":{\"id\":\"055fd738-b3c5-4343-974f-46b637c53bf1\",\"type\":\"ColumnDataSource\"},\"glyph\":{\"id\":\"54285f67-4c37-4cd4-9336-30b1402dfdf5\",\"type\":\"Circle\"},\"hover_glyph\":null,\"muted_glyph\":null,\"nonselection_glyph\":{\"id\":\"ff0a7f8e-7a6c-444a-a6ed-65a3c9efd59d\",\"type\":\"Circle\"},\"selection_glyph\":null,\"view\":{\"id\":\"b617f1b9-119b-49de-abe9-469bc1372000\",\"type\":\"CDSView\"}},\"id\":\"114dd7c1-e04f-41a0-8c69-56f448f03aea\",\"type\":\"GlyphRenderer\"},{\"attributes\":{\"bottom_units\":\"screen\",\"fill_alpha\":{\"value\":0.5},\"fill_color\":{\"value\":\"lightgrey\"},\"left_units\":\"screen\",\"level\":\"overlay\",\"line_alpha\":{\"value\":1.0},\"line_color\":{\"value\":\"black\"},\"line_dash\":[4,4],\"line_width\":{\"value\":2},\"plot\":null,\"render_mode\":\"css\",\"right_units\":\"screen\",\"top_units\":\"screen\"},\"id\":\"12ec96b2-f4c5-4846-8aa0-d90be3fc97e9\",\"type\":\"BoxAnnotation\"},{\"attributes\":{\"plot\":null,\"text\":\"modified log axis example\"},\"id\":\"d3716ded-a356-4639-a2be-f037499212f5\",\"type\":\"Title\"},{\"attributes\":{},\"id\":\"ac40d780-7c58-4027-baa1-c4d20a6adf66\",\"type\":\"Selection\"},{\"attributes\":{\"active_drag\":\"auto\",\"active_inspect\":\"auto\",\"active_multi\":null,\"active_scroll\":\"auto\",\"active_tap\":\"auto\",\"tools\":[{\"id\":\"dc74f631-95be-4648-8477-3045f969aff1\",\"type\":\"PanTool\"},{\"id\":\"61d5f904-6536-465d-9081-87d57c6819c3\",\"type\":\"BoxZoomTool\"},{\"id\":\"34540e12-6994-4083-a282-74eb2428e686\",\"type\":\"ResetTool\"},{\"id\":\"0ff8f2d7-732e-4d0c-b61e-74efdf00ab92\",\"type\":\"SaveTool\"}]},\"id\":\"01449faa-ffab-49a2-b72d-94429c91873f\",\"type\":\"Toolbar\"},{\"attributes\":{},\"id\":\"797b4cba-5d3e-4998-bad6-8c53e2937fa8\",\"type\":\"LinearScale\"},{\"attributes\":{},\"id\":\"e869c997-837a-47a7-8c10-be282f7d36ea\",\"type\":\"UnionRenderers\"},{\"attributes\":{\"callback\":null},\"id\":\"c958ff31-0550-4bf7-bd43-256a0e7205cf\",\"type\":\"DataRange1d\"},{\"attributes\":{},\"id\":\"e9ee40c6-ee5a-4c2c-937c-bdf182a84c6a\",\"type\":\"BasicTickFormatter\"},{\"attributes\":{},\"id\":\"dc74f631-95be-4648-8477-3045f969aff1\",\"type\":\"PanTool\"},{\"attributes\":{},\"id\":\"0ff8f2d7-732e-4d0c-b61e-74efdf00ab92\",\"type\":\"SaveTool\"},{\"attributes\":{\"line_alpha\":0.1,\"line_color\":\"#1f77b4\",\"x\":{\"field\":\"x\"},\"y\":{\"field\":\"y\"}},\"id\":\"fc420e9d-1bbe-4c2a-a3d9-a433f13e3432\",\"type\":\"Line\"},{\"attributes\":{\"callback\":null,\"end\":30,\"start\":-30},\"id\":\"c676d8cd-8a48-454c-b5c5-c9d831698f62\",\"type\":\"Range1d\"},{\"attributes\":{\"label\":{\"value\":\"sample data\"},\"renderers\":[{\"id\":\"114dd7c1-e04f-41a0-8c69-56f448f03aea\",\"type\":\"GlyphRenderer\"}]},\"id\":\"0bcc6adb-7c45-48e5-ba39-51ffb43f58a5\",\"type\":\"LegendItem\"},{\"attributes\":{\"axis_label\":\"Elevation\",\"formatter\":{\"id\":\"e9ee40c6-ee5a-4c2c-937c-bdf182a84c6a\",\"type\":\"BasicTickFormatter\"},\"plot\":{\"id\":\"64250217-8eb4-443c-b469-38b5e76f55a6\",\"subtype\":\"Figure\",\"type\":\"Plot\"},\"ticker\":{\"id\":\"adde10ae-e40d-442c-a287-38d847f858a8\",\"type\":\"BasicTicker\"}},\"id\":\"b8938549-0be5-46d9-9035-7fd4cdd54cce\",\"type\":\"LinearAxis\"},{\"attributes\":{\"overlay\":{\"id\":\"12ec96b2-f4c5-4846-8aa0-d90be3fc97e9\",\"type\":\"BoxAnnotation\"}},\"id\":\"61d5f904-6536-465d-9081-87d57c6819c3\",\"type\":\"BoxZoomTool\"},{\"attributes\":{\"plot\":{\"id\":\"64250217-8eb4-443c-b469-38b5e76f55a6\",\"subtype\":\"Figure\",\"type\":\"Plot\"},\"ticker\":{\"id\":\"300ed275-a018-4189-a901-6f923a52fbc0\",\"type\":\"BasicTicker\"}},\"id\":\"8b682198-7c8e-4083-8558-b4ae50607215\",\"type\":\"Grid\"},{\"attributes\":{\"data_source\":{\"id\":\"f6d32186-20ad-41f4-a141-c39b3d9aebe4\",\"type\":\"ColumnDataSource\"},\"glyph\":{\"id\":\"4c598842-059f-4213-9960-9e658be003ae\",\"type\":\"Line\"},\"hover_glyph\":null,\"muted_glyph\":null,\"nonselection_glyph\":{\"id\":\"fc420e9d-1bbe-4c2a-a3d9-a433f13e3432\",\"type\":\"Line\"},\"selection_glyph\":null,\"view\":{\"id\":\"813375ab-69cd-4902-b9d0-de19d5234201\",\"type\":\"CDSView\"}},\"id\":\"041ab309-3aa0-4b9d-a301-76405acd3468\",\"type\":\"GlyphRenderer\"},{\"attributes\":{},\"id\":\"adde10ae-e40d-442c-a287-38d847f858a8\",\"type\":\"BasicTicker\"},{\"attributes\":{\"dimension\":1,\"plot\":{\"id\":\"64250217-8eb4-443c-b469-38b5e76f55a6\",\"subtype\":\"Figure\",\"type\":\"Plot\"},\"ticker\":{\"id\":\"adde10ae-e40d-442c-a287-38d847f858a8\",\"type\":\"BasicTicker\"}},\"id\":\"5387cd50-1d72-436d-861c-26a16c3907b5\",\"type\":\"Grid\"},{\"attributes\":{\"source\":{\"id\":\"055fd738-b3c5-4343-974f-46b637c53bf1\",\"type\":\"ColumnDataSource\"}},\"id\":\"b617f1b9-119b-49de-abe9-469bc1372000\",\"type\":\"CDSView\"},{\"attributes\":{\"fill_alpha\":{\"value\":0.1},\"fill_color\":{\"value\":\"#1f77b4\"},\"line_alpha\":{\"value\":0.1},\"line_color\":{\"value\":\"#1f77b4\"},\"size\":{\"units\":\"screen\",\"value\":8},\"x\":{\"field\":\"x\"},\"y\":{\"field\":\"y\"}},\"id\":\"ff0a7f8e-7a6c-444a-a6ed-65a3c9efd59d\",\"type\":\"Circle\"},{\"attributes\":{},\"id\":\"c72c310c-7f58-4baa-b9fc-c3a323e4cf82\",\"type\":\"BasicTickFormatter\"},{\"attributes\":{},\"id\":\"261cec53-6856-4460-a4f6-4bdc63c1857f\",\"type\":\"UnionRenderers\"}],\"root_ids\":[\"64250217-8eb4-443c-b469-38b5e76f55a6\"]},\"title\":\"Bokeh Application\",\"version\":\"0.13.0\"}};\n",
       "  var render_items = [{\"docid\":\"dade663c-bc65-4835-84c9-eea4441dc248\",\"roots\":{\"64250217-8eb4-443c-b469-38b5e76f55a6\":\"4afe8097-f3d3-4ea2-985f-35906c1d5b62\"}}];\n",
       "  root.Bokeh.embed.embed_items_notebook(docs_json, render_items);\n",
       "\n",
       "  }\n",
       "  if (root.Bokeh !== undefined) {\n",
       "    embed_document(root);\n",
       "  } else {\n",
       "    var attempts = 0;\n",
       "    var timer = setInterval(function(root) {\n",
       "      if (root.Bokeh !== undefined) {\n",
       "        embed_document(root);\n",
       "        clearInterval(timer);\n",
       "      }\n",
       "      attempts++;\n",
       "      if (attempts > 100) {\n",
       "        console.log(\"Bokeh: ERROR: Unable to run BokehJS code because BokehJS library is missing\")\n",
       "        clearInterval(timer);\n",
       "      }\n",
       "    }, 10, root)\n",
       "  }\n",
       "})(window);"
      ],
      "application/vnd.bokehjs_exec.v0+json": ""
     },
     "metadata": {
      "application/vnd.bokehjs_exec.v0+json": {
       "id": "64250217-8eb4-443c-b469-38b5e76f55a6"
      }
     },
     "output_type": "display_data"
    }
   ],
   "source": [
    "# prepare some data\n",
    "# x = [0.1, 0.5, 1.0, 1.5, 2.0, 2.5, 3.0]\n",
    "# y0 = [i**2 for i in x]\n",
    "# y1 = [10**i for i in x]\n",
    "# y2 = [10**(i**2) for i in x]\n",
    "\n",
    "# output to static HTML file\n",
    "output_file(\"elev_lines.html\")\n",
    "\n",
    "# create a new plot\n",
    "p = figure(\n",
    "    tools=\"pan,box_zoom,reset,save\",\n",
    "    y_range=[-30, 30], title=\"modified log axis example\",\n",
    "    x_axis_label='Distance', y_axis_label='Elevation'\n",
    ")\n",
    "\n",
    "# add some renderers\n",
    "p.line(dist, elev, line_color = \"black\")\n",
    "p.circle(dist, elev, legend=\"sample data\", line_color=\"red\", fill_color = 'orange', size=8)\n",
    "# p.circle(x, x, legend=\"y=x\", fill_color=\"white\", size=8)\n",
    "# p.line(x, y0, legend=\"y=x^2\", line_width=3)\n",
    "# p.line(x, y1, legend=\"y=10^x\", line_color=\"red\")\n",
    "# p.circle(x, y1, legend=\"y=10^x\", fill_color=\"red\", line_color=\"red\", size=6)\n",
    "# p.line(x, y2, legend=\"y=10^x^2\", line_color=\"orange\", line_dash=\"4 4\")\n",
    "\n",
    "# show the results\n",
    "show(p)"
   ]
  },
  {
   "cell_type": "code",
   "execution_count": null,
   "metadata": {},
   "outputs": [],
   "source": []
  }
 ],
 "metadata": {
  "kernelspec": {
   "display_name": "Python 3",
   "language": "python",
   "name": "python3"
  },
  "language_info": {
   "codemirror_mode": {
    "name": "ipython",
    "version": 3
   },
   "file_extension": ".py",
   "mimetype": "text/x-python",
   "name": "python",
   "nbconvert_exporter": "python",
   "pygments_lexer": "ipython3",
   "version": "3.6.6"
  }
 },
 "nbformat": 4,
 "nbformat_minor": 2
}
