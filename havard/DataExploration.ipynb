{
 "cells": [
  {
   "cell_type": "markdown",
   "metadata": {},
   "source": [
    "# Diving into the datasets"
   ]
  },
  {
   "cell_type": "code",
   "execution_count": 1,
   "metadata": {},
   "outputs": [],
   "source": [
    "%matplotlib inline"
   ]
  },
  {
   "cell_type": "code",
   "execution_count": 5,
   "metadata": {},
   "outputs": [],
   "source": [
    "# Imports\n",
    "from osgeo import gdal\n",
    "import numpy as np\n",
    "import matplotlib.pyplot as plt\n",
    "\n",
    "from pygeotools.lib import iolib, warplib, geolib, timelib, malib"
   ]
  },
  {
   "cell_type": "code",
   "execution_count": 12,
   "metadata": {},
   "outputs": [],
   "source": [
    "# Define some filenames\n",
    "filename_2010 = 'data/20100223_0459_10300100046BAA00_10300100044A2800-DEM_32m.tif'\n",
    "filename_2014 = 'data/20140425_0417_1010010012968C00_1010010012986800-DEM_32m.tif'\n",
    "filename_2016 = 'data/20160516_0456_10500100046F4600_1030010056C3D800-DEM_32m.tif'\n",
    "filename_list = [filename_2010, filename_2014, filename_2016]"
   ]
  },
  {
   "cell_type": "code",
   "execution_count": 14,
   "metadata": {},
   "outputs": [
    {
     "name": "stdout",
     "output_type": "stream",
     "text": [
      "\n",
      "Warping all inputs to the following:\n",
      "Resolution: 32.0\n",
      "Extent: [484400.0, 3093616.0, 493648.0, 3102000.0]\n",
      "Projection: '+proj=utm +zone=45 +datum=WGS84 +units=m +no_defs '\n",
      "Resampling alg: cubic\n",
      "\n",
      "1 of 3: data/20100223_0459_10300100046BAA00_10300100044A2800-DEM_32m.tif\n",
      "nl: 262 ns: 289 res: 32.000\n"
     ]
    },
    {
     "ename": "RuntimeError",
     "evalue": "Object given is not a Python function",
     "output_type": "error",
     "traceback": [
      "\u001b[1;31m---------------------------------------------------------------------------\u001b[0m",
      "\u001b[1;31mRuntimeError\u001b[0m                              Traceback (most recent call last)",
      "\u001b[1;32m<ipython-input-14-7859d642e837>\u001b[0m in \u001b[0;36m<module>\u001b[1;34m()\u001b[0m\n\u001b[1;32m----> 1\u001b[1;33m \u001b[0mdataset_list\u001b[0m \u001b[1;33m=\u001b[0m \u001b[0mwarplib\u001b[0m\u001b[1;33m.\u001b[0m\u001b[0mmemwarp_multi_fn\u001b[0m\u001b[1;33m(\u001b[0m\u001b[0mfilename_list\u001b[0m\u001b[1;33m,\u001b[0m  \u001b[0mextent\u001b[0m\u001b[1;33m=\u001b[0m\u001b[1;34m'intersection'\u001b[0m\u001b[1;33m,\u001b[0m \u001b[0mres\u001b[0m\u001b[1;33m=\u001b[0m\u001b[1;34m'min'\u001b[0m\u001b[1;33m,\u001b[0m \u001b[0mt_srs\u001b[0m\u001b[1;33m=\u001b[0m\u001b[0mfilename_2010\u001b[0m\u001b[1;33m)\u001b[0m\u001b[1;33m\u001b[0m\u001b[0m\n\u001b[0m",
      "\u001b[1;32m~\\AppData\\Local\\Continuum\\anaconda3\\envs\\rasterenv\\lib\\site-packages\\pygeotools\\lib\\warplib.py\u001b[0m in \u001b[0;36mmemwarp_multi_fn\u001b[1;34m(src_fn_list, res, extent, t_srs, r, verbose, dst_ndv)\u001b[0m\n\u001b[0;32m    525\u001b[0m         \u001b[0msys\u001b[0m\u001b[1;33m.\u001b[0m\u001b[0mexit\u001b[0m\u001b[1;33m(\u001b[0m\u001b[1;34m'Missing input file(s)'\u001b[0m\u001b[1;33m)\u001b[0m\u001b[1;33m\u001b[0m\u001b[0m\n\u001b[0;32m    526\u001b[0m     \u001b[0msrc_ds_list\u001b[0m \u001b[1;33m=\u001b[0m \u001b[1;33m[\u001b[0m\u001b[0mgdal\u001b[0m\u001b[1;33m.\u001b[0m\u001b[0mOpen\u001b[0m\u001b[1;33m(\u001b[0m\u001b[0mfn\u001b[0m\u001b[1;33m,\u001b[0m \u001b[0mgdal\u001b[0m\u001b[1;33m.\u001b[0m\u001b[0mGA_ReadOnly\u001b[0m\u001b[1;33m)\u001b[0m \u001b[1;32mfor\u001b[0m \u001b[0mfn\u001b[0m \u001b[1;32min\u001b[0m \u001b[0msrc_fn_list\u001b[0m\u001b[1;33m]\u001b[0m\u001b[1;33m\u001b[0m\u001b[0m\n\u001b[1;32m--> 527\u001b[1;33m     \u001b[1;32mreturn\u001b[0m \u001b[0mmemwarp_multi\u001b[0m\u001b[1;33m(\u001b[0m\u001b[0msrc_ds_list\u001b[0m\u001b[1;33m,\u001b[0m \u001b[0mres\u001b[0m\u001b[1;33m,\u001b[0m \u001b[0mextent\u001b[0m\u001b[1;33m,\u001b[0m \u001b[0mt_srs\u001b[0m\u001b[1;33m,\u001b[0m \u001b[0mr\u001b[0m\u001b[1;33m,\u001b[0m \u001b[0mverbose\u001b[0m\u001b[1;33m=\u001b[0m\u001b[0mverbose\u001b[0m\u001b[1;33m,\u001b[0m \u001b[0mdst_ndv\u001b[0m\u001b[1;33m=\u001b[0m\u001b[0mdst_ndv\u001b[0m\u001b[1;33m)\u001b[0m\u001b[1;33m\u001b[0m\u001b[0m\n\u001b[0m\u001b[0;32m    528\u001b[0m \u001b[1;33m\u001b[0m\u001b[0m\n\u001b[0;32m    529\u001b[0m \u001b[1;32mdef\u001b[0m \u001b[0mdiskwarp_multi\u001b[0m\u001b[1;33m(\u001b[0m\u001b[0msrc_ds_list\u001b[0m\u001b[1;33m,\u001b[0m \u001b[0mres\u001b[0m\u001b[1;33m=\u001b[0m\u001b[1;34m'first'\u001b[0m\u001b[1;33m,\u001b[0m \u001b[0mextent\u001b[0m\u001b[1;33m=\u001b[0m\u001b[1;34m'intersection'\u001b[0m\u001b[1;33m,\u001b[0m \u001b[0mt_srs\u001b[0m\u001b[1;33m=\u001b[0m\u001b[1;34m'first'\u001b[0m\u001b[1;33m,\u001b[0m \u001b[0mr\u001b[0m\u001b[1;33m=\u001b[0m\u001b[1;34m'cubic'\u001b[0m\u001b[1;33m,\u001b[0m \u001b[0mverbose\u001b[0m\u001b[1;33m=\u001b[0m\u001b[1;32mTrue\u001b[0m\u001b[1;33m,\u001b[0m \u001b[0moutdir\u001b[0m\u001b[1;33m=\u001b[0m\u001b[1;32mNone\u001b[0m\u001b[1;33m,\u001b[0m \u001b[0mdst_ndv\u001b[0m\u001b[1;33m=\u001b[0m\u001b[1;32mNone\u001b[0m\u001b[1;33m)\u001b[0m\u001b[1;33m:\u001b[0m\u001b[1;33m\u001b[0m\u001b[0m\n",
      "\u001b[1;32m~\\AppData\\Local\\Continuum\\anaconda3\\envs\\rasterenv\\lib\\site-packages\\pygeotools\\lib\\warplib.py\u001b[0m in \u001b[0;36mmemwarp_multi\u001b[1;34m(src_ds_list, res, extent, t_srs, r, verbose, dst_ndv)\u001b[0m\n\u001b[0;32m    516\u001b[0m     \"\"\"Helper function for memwarp of multiple input GDAL Datasets\n\u001b[0;32m    517\u001b[0m     \"\"\"\n\u001b[1;32m--> 518\u001b[1;33m     \u001b[1;32mreturn\u001b[0m \u001b[0mwarp_multi\u001b[0m\u001b[1;33m(\u001b[0m\u001b[0msrc_ds_list\u001b[0m\u001b[1;33m,\u001b[0m \u001b[0mres\u001b[0m\u001b[1;33m,\u001b[0m \u001b[0mextent\u001b[0m\u001b[1;33m,\u001b[0m \u001b[0mt_srs\u001b[0m\u001b[1;33m,\u001b[0m \u001b[0mr\u001b[0m\u001b[1;33m,\u001b[0m \u001b[0mwarptype\u001b[0m\u001b[1;33m=\u001b[0m\u001b[0mmemwarp\u001b[0m\u001b[1;33m,\u001b[0m \u001b[0mverbose\u001b[0m\u001b[1;33m=\u001b[0m\u001b[0mverbose\u001b[0m\u001b[1;33m,\u001b[0m \u001b[0mdst_ndv\u001b[0m\u001b[1;33m=\u001b[0m\u001b[0mdst_ndv\u001b[0m\u001b[1;33m)\u001b[0m\u001b[1;33m\u001b[0m\u001b[0m\n\u001b[0m\u001b[0;32m    519\u001b[0m \u001b[1;33m\u001b[0m\u001b[0m\n\u001b[0;32m    520\u001b[0m \u001b[1;32mdef\u001b[0m \u001b[0mmemwarp_multi_fn\u001b[0m\u001b[1;33m(\u001b[0m\u001b[0msrc_fn_list\u001b[0m\u001b[1;33m,\u001b[0m \u001b[0mres\u001b[0m\u001b[1;33m=\u001b[0m\u001b[1;34m'first'\u001b[0m\u001b[1;33m,\u001b[0m \u001b[0mextent\u001b[0m\u001b[1;33m=\u001b[0m\u001b[1;34m'intersection'\u001b[0m\u001b[1;33m,\u001b[0m \u001b[0mt_srs\u001b[0m\u001b[1;33m=\u001b[0m\u001b[1;34m'first'\u001b[0m\u001b[1;33m,\u001b[0m \u001b[0mr\u001b[0m\u001b[1;33m=\u001b[0m\u001b[1;34m'cubic'\u001b[0m\u001b[1;33m,\u001b[0m \u001b[0mverbose\u001b[0m\u001b[1;33m=\u001b[0m\u001b[1;32mTrue\u001b[0m\u001b[1;33m,\u001b[0m \u001b[0mdst_ndv\u001b[0m\u001b[1;33m=\u001b[0m\u001b[1;36m0\u001b[0m\u001b[1;33m)\u001b[0m\u001b[1;33m:\u001b[0m\u001b[1;33m\u001b[0m\u001b[0m\n",
      "\u001b[1;32m~\\AppData\\Local\\Continuum\\anaconda3\\envs\\rasterenv\\lib\\site-packages\\pygeotools\\lib\\warplib.py\u001b[0m in \u001b[0;36mwarp_multi\u001b[1;34m(src_ds_list, res, extent, t_srs, r, warptype, outdir, dst_ndv, verbose, debug)\u001b[0m\n\u001b[0;32m    508\u001b[0m             \u001b[0mout_ds_list\u001b[0m\u001b[1;33m.\u001b[0m\u001b[0mappend\u001b[0m\u001b[1;33m(\u001b[0m\u001b[0mds\u001b[0m\u001b[1;33m)\u001b[0m\u001b[1;33m\u001b[0m\u001b[0m\n\u001b[0;32m    509\u001b[0m         \u001b[1;32melse\u001b[0m\u001b[1;33m:\u001b[0m\u001b[1;33m\u001b[0m\u001b[0m\n\u001b[1;32m--> 510\u001b[1;33m             \u001b[0mdst_ds\u001b[0m \u001b[1;33m=\u001b[0m \u001b[0mwarptype\u001b[0m\u001b[1;33m(\u001b[0m\u001b[0mds\u001b[0m\u001b[1;33m,\u001b[0m \u001b[0mres\u001b[0m\u001b[1;33m,\u001b[0m \u001b[0mextent\u001b[0m\u001b[1;33m,\u001b[0m \u001b[0mt_srs\u001b[0m\u001b[1;33m,\u001b[0m \u001b[0mr\u001b[0m\u001b[1;33m,\u001b[0m \u001b[0moutdir\u001b[0m\u001b[1;33m,\u001b[0m \u001b[0mdst_ndv\u001b[0m\u001b[1;33m=\u001b[0m\u001b[0mdst_ndv\u001b[0m\u001b[1;33m,\u001b[0m \u001b[0mverbose\u001b[0m\u001b[1;33m=\u001b[0m\u001b[0mverbose\u001b[0m\u001b[1;33m)\u001b[0m\u001b[1;33m\u001b[0m\u001b[0m\n\u001b[0m\u001b[0;32m    511\u001b[0m             \u001b[0mout_ds_list\u001b[0m\u001b[1;33m.\u001b[0m\u001b[0mappend\u001b[0m\u001b[1;33m(\u001b[0m\u001b[0mdst_ds\u001b[0m\u001b[1;33m)\u001b[0m\u001b[1;33m\u001b[0m\u001b[0m\n\u001b[0;32m    512\u001b[0m \u001b[1;33m\u001b[0m\u001b[0m\n",
      "\u001b[1;32m~\\AppData\\Local\\Continuum\\anaconda3\\envs\\rasterenv\\lib\\site-packages\\pygeotools\\lib\\warplib.py\u001b[0m in \u001b[0;36mmemwarp\u001b[1;34m(src_ds, res, extent, t_srs, r, oudir, dst_ndv, verbose)\u001b[0m\n\u001b[0;32m    216\u001b[0m     \"\"\"\n\u001b[0;32m    217\u001b[0m     \u001b[0mdriver\u001b[0m \u001b[1;33m=\u001b[0m \u001b[0miolib\u001b[0m\u001b[1;33m.\u001b[0m\u001b[0mmem_drv\u001b[0m\u001b[1;33m\u001b[0m\u001b[0m\n\u001b[1;32m--> 218\u001b[1;33m     \u001b[1;32mreturn\u001b[0m \u001b[0mwarp\u001b[0m\u001b[1;33m(\u001b[0m\u001b[0msrc_ds\u001b[0m\u001b[1;33m,\u001b[0m \u001b[0mres\u001b[0m\u001b[1;33m,\u001b[0m \u001b[0mextent\u001b[0m\u001b[1;33m,\u001b[0m \u001b[0mt_srs\u001b[0m\u001b[1;33m,\u001b[0m \u001b[0mr\u001b[0m\u001b[1;33m,\u001b[0m \u001b[0mdriver\u001b[0m\u001b[1;33m=\u001b[0m\u001b[0mdriver\u001b[0m\u001b[1;33m,\u001b[0m \u001b[0mdst_ndv\u001b[0m\u001b[1;33m=\u001b[0m\u001b[0mdst_ndv\u001b[0m\u001b[1;33m,\u001b[0m \u001b[0mverbose\u001b[0m\u001b[1;33m=\u001b[0m\u001b[0mverbose\u001b[0m\u001b[1;33m)\u001b[0m\u001b[1;33m\u001b[0m\u001b[0m\n\u001b[0m\u001b[0;32m    219\u001b[0m \u001b[1;33m\u001b[0m\u001b[0m\n\u001b[0;32m    220\u001b[0m \u001b[1;31m#Use this to warp directly to output file - no need to write to memory then CreateCopy\u001b[0m\u001b[1;33m\u001b[0m\u001b[1;33m\u001b[0m\u001b[0m\n",
      "\u001b[1;32m~\\AppData\\Local\\Continuum\\anaconda3\\envs\\rasterenv\\lib\\site-packages\\pygeotools\\lib\\warplib.py\u001b[0m in \u001b[0;36mwarp\u001b[1;34m(src_ds, res, extent, t_srs, r, driver, dst_fn, dst_ndv, verbose)\u001b[0m\n\u001b[0;32m    192\u001b[0m     \"\"\"\n\u001b[0;32m    193\u001b[0m \u001b[1;33m\u001b[0m\u001b[0m\n\u001b[1;32m--> 194\u001b[1;33m     \u001b[0mgdal\u001b[0m\u001b[1;33m.\u001b[0m\u001b[0mReprojectImage\u001b[0m\u001b[1;33m(\u001b[0m\u001b[0msrc_ds\u001b[0m\u001b[1;33m,\u001b[0m \u001b[0mdst_ds\u001b[0m\u001b[1;33m,\u001b[0m \u001b[0msrc_srs\u001b[0m\u001b[1;33m.\u001b[0m\u001b[0mExportToWkt\u001b[0m\u001b[1;33m(\u001b[0m\u001b[1;33m)\u001b[0m\u001b[1;33m,\u001b[0m \u001b[0mt_srs\u001b[0m\u001b[1;33m.\u001b[0m\u001b[0mExportToWkt\u001b[0m\u001b[1;33m(\u001b[0m\u001b[1;33m)\u001b[0m\u001b[1;33m,\u001b[0m \u001b[0mgra\u001b[0m\u001b[1;33m,\u001b[0m \u001b[1;36m0.0\u001b[0m\u001b[1;33m,\u001b[0m \u001b[1;36m0.0\u001b[0m\u001b[1;33m,\u001b[0m \u001b[0mprog_func\u001b[0m\u001b[1;33m)\u001b[0m\u001b[1;33m\u001b[0m\u001b[0m\n\u001b[0m\u001b[0;32m    195\u001b[0m \u001b[1;33m\u001b[0m\u001b[0m\n\u001b[0;32m    196\u001b[0m     \"\"\"\n",
      "\u001b[1;32m~\\AppData\\Local\\Continuum\\anaconda3\\envs\\rasterenv\\lib\\site-packages\\osgeo\\gdal.py\u001b[0m in \u001b[0;36mReprojectImage\u001b[1;34m(*args, **kwargs)\u001b[0m\n\u001b[0;32m   2838\u001b[0m \u001b[1;32mdef\u001b[0m \u001b[0mReprojectImage\u001b[0m\u001b[1;33m(\u001b[0m\u001b[1;33m*\u001b[0m\u001b[0margs\u001b[0m\u001b[1;33m,\u001b[0m \u001b[1;33m**\u001b[0m\u001b[0mkwargs\u001b[0m\u001b[1;33m)\u001b[0m\u001b[1;33m:\u001b[0m\u001b[1;33m\u001b[0m\u001b[0m\n\u001b[0;32m   2839\u001b[0m     \u001b[1;34m\"\"\"ReprojectImage(Dataset src_ds, Dataset dst_ds, char const * src_wkt=None, char const * dst_wkt=None, GDALResampleAlg eResampleAlg, double WarpMemoryLimit=0.0, double maxerror=0.0, GDALProgressFunc callback=0, void * callback_data=None, char ** options=None) -> CPLErr\"\"\"\u001b[0m\u001b[1;33m\u001b[0m\u001b[0m\n\u001b[1;32m-> 2840\u001b[1;33m     \u001b[1;32mreturn\u001b[0m \u001b[0m_gdal\u001b[0m\u001b[1;33m.\u001b[0m\u001b[0mReprojectImage\u001b[0m\u001b[1;33m(\u001b[0m\u001b[1;33m*\u001b[0m\u001b[0margs\u001b[0m\u001b[1;33m,\u001b[0m \u001b[1;33m**\u001b[0m\u001b[0mkwargs\u001b[0m\u001b[1;33m)\u001b[0m\u001b[1;33m\u001b[0m\u001b[0m\n\u001b[0m\u001b[0;32m   2841\u001b[0m \u001b[1;33m\u001b[0m\u001b[0m\n\u001b[0;32m   2842\u001b[0m \u001b[1;32mdef\u001b[0m \u001b[0mComputeProximity\u001b[0m\u001b[1;33m(\u001b[0m\u001b[1;33m*\u001b[0m\u001b[0margs\u001b[0m\u001b[1;33m,\u001b[0m \u001b[1;33m**\u001b[0m\u001b[0mkwargs\u001b[0m\u001b[1;33m)\u001b[0m\u001b[1;33m:\u001b[0m\u001b[1;33m\u001b[0m\u001b[0m\n",
      "\u001b[1;31mRuntimeError\u001b[0m: Object given is not a Python function"
     ]
    }
   ],
   "source": [
    "dataset_list = warplib.memwarp_multi_fn(filename_list,  extent='intersection', res='min', t_srs=filename_2010)"
   ]
  }
 ],
 "metadata": {
  "kernelspec": {
   "display_name": "Python 3",
   "language": "python",
   "name": "python3"
  },
  "language_info": {
   "codemirror_mode": {
    "name": "ipython",
    "version": 3
   },
   "file_extension": ".py",
   "mimetype": "text/x-python",
   "name": "python",
   "nbconvert_exporter": "python",
   "pygments_lexer": "ipython3",
   "version": "3.6.6"
  }
 },
 "nbformat": 4,
 "nbformat_minor": 2
}
