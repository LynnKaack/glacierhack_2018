{
 "cells": [
  {
   "cell_type": "markdown",
   "metadata": {},
   "source": [
    "# Data\n",
    "\n",
    "* Look at the Khumba glacier in the Himalayas\n",
    "* Interested in the change of glacier thickness (elevation change on the glacier)\n",
    "* 29 DEM data sets in geotif format (already coregistered)\n",
    "* Read the data by two methods:\n",
    "  * gdal and pygeotools\n",
    "  * xarrays\n"
   ]
  },
  {
   "cell_type": "markdown",
   "metadata": {},
   "source": [
    "![Hei](figures/coregistered_data_all.png)\n"
   ]
  },
  {
   "cell_type": "markdown",
   "metadata": {},
   "source": [
    "### Masking\n",
    "* In order to look at the glacier only, we read a shape file of all glaciers in the Himalays using `pygeotools.geolib`.\n",
    "* Obtained the shape of the Khumba glacier only by identifying the shape we wanted in ArcGIS, and used geopandas to obtain the single shape that we wanted."
   ]
  },
  {
   "cell_type": "markdown",
   "metadata": {},
   "source": [
    "![masking](figures/data_overview.png)"
   ]
  },
  {
   "cell_type": "markdown",
   "metadata": {},
   "source": [
    "# Looking at the rate of change"
   ]
  },
  {
   "cell_type": "markdown",
   "metadata": {},
   "source": [
    "We used the example of DEM change on Mt. Rainier in the raster tutorials.\n",
    "Since we have non-overlapping data, we compare the DEMs to the dataset that covers the largest area"
   ]
  },
  {
   "cell_type": "markdown",
   "metadata": {},
   "source": [
    "![all_changes](figures/direct_comparison_all.png)"
   ]
  },
  {
   "cell_type": "markdown",
   "metadata": {},
   "source": [
    "![all_changes](figures/annual_change_all.png)"
   ]
  },
  {
   "cell_type": "code",
   "execution_count": null,
   "metadata": {},
   "outputs": [],
   "source": []
  }
 ],
 "metadata": {
  "kernelspec": {
   "display_name": "Python [conda env:glacierhack]",
   "language": "python",
   "name": "conda-env-glacierhack-py"
  },
  "language_info": {
   "codemirror_mode": {
    "name": "ipython",
    "version": 3
   },
   "file_extension": ".py",
   "mimetype": "text/x-python",
   "name": "python",
   "nbconvert_exporter": "python",
   "pygments_lexer": "ipython3",
   "version": "3.6.6"
  }
 },
 "nbformat": 4,
 "nbformat_minor": 2
}
